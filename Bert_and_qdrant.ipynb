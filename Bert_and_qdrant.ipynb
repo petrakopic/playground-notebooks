{
 "cells": [
  {
   "cell_type": "markdown",
   "id": "bd9a85c1",
   "metadata": {},
   "source": [
    "Neural Search using Bert transformer and qdrant database"
   ]
  },
  {
   "cell_type": "markdown",
   "id": "4979e4e5",
   "metadata": {},
   "source": [
    "Test out matching process for words/sentences using the pretrained sentence transformer and the qdrant vector database.\n",
    "\n",
    "The main idea is taken from the article: https://blog.qdrant.tech/neural-search-tutorial-3f034ab13adc.\n",
    "\n",
    "Transformer which is used https://huggingface.co/sentence-transformers/paraphrase-multilingual-mpnet-base-v2\n",
    "\n",
    "Qdrant documentation https://qdrant.tech/documentation/\n"
   ]
  },
  {
   "cell_type": "markdown",
   "id": "b6ecd702",
   "metadata": {},
   "source": [
    "Qdrant installation is done via docker\n",
    "\n",
    "https://qdrant.tech/documentation/quick_start/\n"
   ]
  },
  {
   "cell_type": "code",
   "execution_count": 13,
   "id": "67fe7453",
   "metadata": {},
   "outputs": [],
   "source": [
    "from sentence_transformers import SentenceTransformer\n",
    "from typing import Optional, List\n",
    "from qdrant_client import QdrantClient\n",
    "import numpy as np\n",
    "from qdrant_client.models import Distance\n",
    "from typing import Optional\n",
    "from qdrant_client.conversions.common_types import Record\n",
    "from qdrant_client.models import VectorParams\n",
    "\n",
    "\n",
    "# File path to the file with words on which the matchins should be done \n",
    "file_path = \"qdrant_data/data.txt\"\n",
    "out_file_path = \"qdrant_data/word_embeddings.npy\""
   ]
  },
  {
   "cell_type": "code",
   "execution_count": 8,
   "id": "eabbb823",
   "metadata": {},
   "outputs": [],
   "source": [
    "# 1. Transform the words to vectors using the prebuilt model\n",
    "\n",
    "def transform_names_to_vectors(file_path: str, batch_size: Optional = 30000):\n",
    "    \"\"\"\n",
    "    Load the model and encode them to the vectors\n",
    "    \"\"\"\n",
    "    model = SentenceTransformer('sentence-transformers/paraphrase-multilingual-mpnet-base-v2',device=\"cpu\")\n",
    "    names = []\n",
    "    with open(file_path) as file:\n",
    "        for rec in file:\n",
    "            names.append(rec.strip())\n",
    "        names_embeddings = model.encode(names)\n",
    "        _dump_to_file(out_file_path=out_file_path, vectors = names_embeddings)\n",
    "\n",
    "\n",
    "def _dump_to_file(out_file_path: str, vectors: List):\n",
    "    np.save(out_file_path, vectors)\n"
   ]
  },
  {
   "cell_type": "code",
   "execution_count": 14,
   "id": "d9820a2c",
   "metadata": {},
   "outputs": [],
   "source": [
    "transform_names_to_vectors(file_path=file_path)"
   ]
  },
  {
   "cell_type": "code",
   "execution_count": 28,
   "id": "0e68d71b",
   "metadata": {},
   "outputs": [],
   "source": [
    "# Read the word embeddings and ingest them to qdrant database \n",
    "\n",
    "COLLECTION_NAME = \"my_first_collection\"\n",
    "DIM = 768\n",
    "\n",
    "def ingest_vectors_to_qdrant(file_path:str=out_file_path):\n",
    "\n",
    "    embeddings = np.load(file_path)\n",
    "    records = (Record(\n",
    "            id=idx,\n",
    "            vector=embedding.tolist())\n",
    "        for idx, embedding in enumerate(embeddings)\n",
    "    )\n",
    "\n",
    "    client = QdrantClient(host=\"localhost\", port=6333)\n",
    "    client.recreate_collection(\n",
    "        collection_name=COLLECTION_NAME,\n",
    "        vectors_config=VectorParams(size=DIM, distance=Distance.DOT),\n",
    "    )\n",
    "    client.upload_records(\n",
    "        collection_name=COLLECTION_NAME,\n",
    "        records=records,\n",
    "        parallel=2\n",
    "    )\n",
    "\n"
   ]
  },
  {
   "cell_type": "code",
   "execution_count": 29,
   "id": "d31b7dc3",
   "metadata": {},
   "outputs": [],
   "source": [
    "ingest_vectors_to_qdrant(file_path=out_file_path)"
   ]
  },
  {
   "cell_type": "code",
   "execution_count": 30,
   "id": "59673ce3",
   "metadata": {},
   "outputs": [],
   "source": [
    "# preform the search in the database given a word vector \n",
    "\n",
    "def search(sentence: str):\n",
    "    model = SentenceTransformer('sentence-transformers/paraphrase-multilingual-mpnet-base-v2', device=\"cpu\")\n",
    "    query_vector = model.encode(sentence).tolist()\n",
    "    client = QdrantClient(host=\"localhost\", port=6333)\n",
    "\n",
    "    hits = client.search(\n",
    "        collection_name=COLLECTION_NAME,\n",
    "        query_vector=query_vector,\n",
    "        limit=5  # Return 5 closest points\n",
    "    )\n",
    "\n",
    "    return hits"
   ]
  },
  {
   "cell_type": "code",
   "execution_count": 31,
   "id": "82c9bdd0",
   "metadata": {},
   "outputs": [
    {
     "data": {
      "text/plain": [
       "[ScoredPoint(id=0, version=0, score=7.943817, payload={}, vector=None),\n",
       " ScoredPoint(id=2, version=0, score=4.656517, payload={}, vector=None),\n",
       " ScoredPoint(id=3, version=0, score=3.063758, payload={}, vector=None),\n",
       " ScoredPoint(id=1, version=0, score=0.86934197, payload={}, vector=None),\n",
       " ScoredPoint(id=4, version=0, score=0.6023959, payload={}, vector=None)]"
      ]
     },
     "execution_count": 31,
     "metadata": {},
     "output_type": "execute_result"
    }
   ],
   "source": [
    "search(sentence =\"Qdrant is a vector similarity search engine.\") "
   ]
  },
  {
   "cell_type": "code",
   "execution_count": 32,
   "id": "0707feda",
   "metadata": {},
   "outputs": [
    {
     "data": {
      "text/plain": [
       "[ScoredPoint(id=0, version=0, score=3.9752455, payload={}, vector=None),\n",
       " ScoredPoint(id=2, version=0, score=3.2339041, payload={}, vector=None),\n",
       " ScoredPoint(id=3, version=0, score=1.3033721, payload={}, vector=None),\n",
       " ScoredPoint(id=4, version=0, score=1.1483693, payload={}, vector=None),\n",
       " ScoredPoint(id=1, version=0, score=1.0606894, payload={}, vector=None)]"
      ]
     },
     "execution_count": 32,
     "metadata": {},
     "output_type": "execute_result"
    }
   ],
   "source": [
    "# Typos in sentence: \n",
    "search(sentence =\"Qdrat is veccor similaily seatch enhine.\") "
   ]
  },
  {
   "cell_type": "code",
   "execution_count": null,
   "id": "06bf4878",
   "metadata": {},
   "outputs": [],
   "source": []
  }
 ],
 "metadata": {
  "kernelspec": {
   "display_name": "Python 3",
   "language": "python",
   "name": "python3"
  },
  "language_info": {
   "codemirror_mode": {
    "name": "ipython",
    "version": 3
   },
   "file_extension": ".py",
   "mimetype": "text/x-python",
   "name": "python",
   "nbconvert_exporter": "python",
   "pygments_lexer": "ipython3",
   "version": "3.7.10"
  }
 },
 "nbformat": 4,
 "nbformat_minor": 5
}
